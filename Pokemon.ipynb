{
 "cells": [
  {
   "cell_type": "code",
   "execution_count": 1,
   "id": "2236d02e-9b69-4da7-b3a6-d99af367692a",
   "metadata": {},
   "outputs": [
    {
     "ename": "SyntaxError",
     "evalue": "invalid syntax (1675334606.py, line 55)",
     "output_type": "error",
     "traceback": [
      "  \u001b[36mCell\u001b[39m\u001b[36m \u001b[39m\u001b[32mIn[1]\u001b[39m\u001b[32m, line 55\u001b[39m\n\u001b[31m    \u001b[39m\u001b[31m//df.to_csv(\"pokemon_dataset.csv\", index=False)\u001b[39m\n    ^\n\u001b[31mSyntaxError\u001b[39m\u001b[31m:\u001b[39m invalid syntax\n"
     ]
    }
   ],
   "source": [
    "import requests\n",
    "import pandas as pd\n",
    "import time\n",
    "\n",
    "def get_pokemon_details(poke_id):\n",
    "    url = f\"https://pokeapi.co/api/v2/pokemon/{poke_id}\"\n",
    "    response = requests.get(url)\n",
    "    if response.status_code != 200:\n",
    "        return None\n",
    "\n",
    "    data = response.json()\n",
    "    \n",
    "    stats_dict = {s[\"stat\"][\"name\"]: s[\"base_stat\"] for s in data.get(\"stats\", [])}\n",
    "\n",
    "    return {\n",
    "        \"id\": data.get(\"id\"),\n",
    "        \"name\": data.get(\"name\"),\n",
    "        \"base_experience\": data.get(\"base_experience\"),\n",
    "        \"height\": data.get(\"height\"),\n",
    "        \"is_default\": data.get(\"is_default\"),\n",
    "        \"order\": data.get(\"order\"),\n",
    "        \"weight\": data.get(\"weight\"),\n",
    "        \"abilities\": [ab[\"ability\"][\"name\"] for ab in data.get(\"abilities\", [])],\n",
    "        \"forms\": [f[\"name\"] for f in data.get(\"forms\", [])],\n",
    "        \"game_indices\": [gi[\"version\"][\"name\"] for gi in data.get(\"game_indices\", [])],\n",
    "        \"held_items\": [hi[\"item\"][\"name\"] for hi in data.get(\"held_items\", [])],\n",
    "        \"location_area_encounters\": data.get(\"location_area_encounters\"),\n",
    "        \"moves\": [m[\"move\"][\"name\"] for m in data.get(\"moves\", [])],\n",
    "        \"sprites\": data.get(\"sprites\", {}).get(\"front_default\"),\n",
    "        \"species\": data.get(\"species\", {}).get(\"name\"),\n",
    "        \"types\": [t[\"type\"][\"name\"] for t in data.get(\"types\", [])],\n",
    "        **stats_dict\n",
    "    }\n",
    "\n",
    "# Descobre o número total de Pokémons disponíveis\n",
    "def get_total_pokemon():\n",
    "    url = \"https://pokeapi.co/api/v2/pokemon?limit=1\"\n",
    "    response = requests.get(url)\n",
    "    return response.json()[\"count\"]\n",
    "\n",
    "# Pega todos os Pokémons\n",
    "total = get_total_pokemon()\n",
    "pokemon_list = []\n",
    "\n",
    "for i in range(1, total + 1):\n",
    "    print(f\"Buscando Pokémon {i}/{total}\")\n",
    "    pokemon = get_pokemon_details(i)\n",
    "    if pokemon:\n",
    "        pokemon_list.append(pokemon)\n",
    "    time.sleep(0.2)  # Respeita rate limit da API\n",
    "\n",
    "# Cria DataFrame e exporta para CSV\n",
    "df = pd.DataFrame(pokemon_list)"
   ]
  },
  {
   "cell_type": "code",
   "execution_count": null,
   "id": "1a2af063-770f-4fb4-bfa1-982a9662dd06",
   "metadata": {},
   "outputs": [],
   "source": []
  },
  {
   "cell_type": "code",
   "execution_count": null,
   "id": "8b36c628-9f90-473f-986c-21e796d85dc2",
   "metadata": {},
   "outputs": [],
   "source": []
  }
 ],
 "metadata": {
  "kernelspec": {
   "display_name": "Python 3 (ipykernel)",
   "language": "python",
   "name": "python3"
  },
  "language_info": {
   "codemirror_mode": {
    "name": "ipython",
    "version": 3
   },
   "file_extension": ".py",
   "mimetype": "text/x-python",
   "name": "python",
   "nbconvert_exporter": "python",
   "pygments_lexer": "ipython3",
   "version": "3.13.3"
  }
 },
 "nbformat": 4,
 "nbformat_minor": 5
}
