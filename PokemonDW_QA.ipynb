{
 "cells": [
  {
   "cell_type": "code",
   "execution_count": 0,
   "metadata": {
    "application/vnd.databricks.v1+cell": {
     "cellMetadata": {
      "byteLimit": 2048000,
      "rowLimit": 10000
     },
     "inputWidgets": {},
     "nuid": "14b88c63-c6cf-46c1-a3a0-1fa0a4078b09",
     "showTitle": false,
     "tableResultSettingsMap": {
      "0": {
       "dataGridStateBlob": "{\"version\":1,\"tableState\":{\"columnPinning\":{\"left\":[\"#row_number#\"],\"right\":[]},\"columnSizing\":{},\"columnVisibility\":{}},\"settings\":{\"columns\":{}},\"syncTimestamp\":1756140593709}",
       "filterBlob": null,
       "queryPlanFiltersBlob": null,
       "tableResultIndex": 0
      }
     },
     "title": ""
    }
   },
   "outputs": [],
   "source": [
    "import pandas as pd\n",
    "#lê da camada gold\n",
    "ft_stats = spark.read.parquet(\n",
    "    \"/Volumes/workspace/default/pokemon/gold/pokemon_ft_stats.parquet\"\n",
    ")\n",
    "#transforma para pandas\n",
    "df_stats = ft_stats.toPandas()\n",
    "#função para validar a qualidade do dado\n",
    "def data_quality(df: pd.DataFrame, table_name: str):\n",
    "    report = pd.DataFrame(\n",
    "        columns=['table', 'rows', 'column', 'nulls', 'zeros', 'min', 'max']\n",
    "    )\n",
    "    \n",
    "    total_rows = len(df)\n",
    "    print(\"Quantidade de linhas:\", total_rows)\n",
    "    \n",
    "    for column in df.columns:\n",
    "        nulls = df[column].isnull().sum()\n",
    "        col_dtype = df[column].dtype\n",
    "        if pd.api.types.is_numeric_dtype(col_dtype):\n",
    "            zeros = df[column].eq(0).sum()\n",
    "            min_val = df[column].min()\n",
    "            max_val = df[column].max()\n",
    "        else:\n",
    "            zeros = None\n",
    "            min_val = None\n",
    "            max_val = None\n",
    "        \n",
    "        report.loc[len(report.index)] = [\n",
    "            table_name, total_rows, column, nulls, zeros, min_val, max_val\n",
    "        ]\n",
    "    \n",
    "    return report\n",
    "#mostra o relatório da qualidade do dado\n",
    "display(data_quality(df_stats, 'stats'))"
   ]
  },
  {
   "cell_type": "code",
   "execution_count": 0,
   "metadata": {
    "application/vnd.databricks.v1+cell": {
     "cellMetadata": {
      "byteLimit": 2048000,
      "rowLimit": 10000
     },
     "inputWidgets": {},
     "nuid": "81756262-429c-4865-853a-919586eaf4b3",
     "showTitle": false,
     "tableResultSettingsMap": {
      "0": {
       "dataGridStateBlob": "{\"version\":1,\"tableState\":{\"columnPinning\":{\"left\":[\"#row_number#\"],\"right\":[]},\"columnSizing\":{},\"columnVisibility\":{}},\"settings\":{\"columns\":{}},\"syncTimestamp\":1756142192729}",
       "filterBlob": null,
       "queryPlanFiltersBlob": null,
       "tableResultIndex": 0
      }
     },
     "title": ""
    }
   },
   "outputs": [],
   "source": [
    "import pandas as pd\n",
    "#le da camada gold\n",
    "dim_abilities = spark.read.parquet(\n",
    "    \"/Volumes/workspace/default/pokemon/gold/pokemon_dim_abilities.parquet/\"\n",
    ")\n",
    "#transforma para pandas\n",
    "df_abilities = dim_abilities.toPandas()\n",
    "#função para validar a qualidade do dado\n",
    "def data_quality(df: pd.DataFrame, table_name: str):\n",
    "    report = pd.DataFrame(\n",
    "        columns=['table', 'rows', 'column', 'nulls', 'zeros', 'min', 'max']\n",
    "    )\n",
    "    \n",
    "    total_rows = len(df)\n",
    "    print(\"Quantidade de linhas:\", total_rows)\n",
    "    \n",
    "    for column in df.columns:\n",
    "        nulls = df[column].isnull().sum()\n",
    "        col_dtype = df[column].dtype\n",
    "        if pd.api.types.is_numeric_dtype(col_dtype):\n",
    "            zeros = df[column].eq(0).sum()\n",
    "            min_val = df[column].min()\n",
    "            max_val = df[column].max()\n",
    "        else:\n",
    "            zeros = None\n",
    "            min_val = None\n",
    "            max_val = None\n",
    "        \n",
    "        report.loc[len(report.index)] = [\n",
    "            table_name, total_rows, column, nulls, zeros, min_val, max_val\n",
    "        ]\n",
    "    \n",
    "    return report\n",
    "#mostra o relatório da qualidade do dado\n",
    "display(data_quality(df_abilities, 'abilities'))"
   ]
  },
  {
   "cell_type": "code",
   "execution_count": 0,
   "metadata": {
    "application/vnd.databricks.v1+cell": {
     "cellMetadata": {
      "byteLimit": 2048000,
      "rowLimit": 10000
     },
     "inputWidgets": {},
     "nuid": "92094a03-56cb-4917-ac79-12319ce7d641",
     "showTitle": false,
     "tableResultSettingsMap": {},
     "title": ""
    }
   },
   "outputs": [],
   "source": [
    "import pandas as pd\n",
    "#le da camada gold\n",
    "dim_type = spark.read.parquet(\n",
    "    \"/Volumes/workspace/default/pokemon/gold/pokemon_dim_type.parquet/\"\n",
    ")\n",
    "#transforma para pandas\n",
    "df_type = dim_type.toPandas()\n",
    "#função para validar a qualidade do dado\n",
    "def data_quality(df: pd.DataFrame, table_name: str):\n",
    "    report = pd.DataFrame(\n",
    "        columns=['table', 'rows', 'column', 'nulls', 'zeros', 'min', 'max']\n",
    "    )\n",
    "    \n",
    "    total_rows = len(df)\n",
    "    print(\"Quantidade de linhas:\", total_rows)\n",
    "    \n",
    "    for column in df.columns:\n",
    "        nulls = df[column].isnull().sum()\n",
    "        col_dtype = df[column].dtype\n",
    "        if pd.api.types.is_numeric_dtype(col_dtype):\n",
    "            zeros = df[column].eq(0).sum()\n",
    "            min_val = df[column].min()\n",
    "            max_val = df[column].max()\n",
    "        else:\n",
    "            zeros = None\n",
    "            min_val = None\n",
    "            max_val = None\n",
    "        \n",
    "        report.loc[len(report.index)] = [\n",
    "            table_name, total_rows, column, nulls, zeros, min_val, max_val\n",
    "        ]\n",
    "    \n",
    "    return report\n",
    "#mostra o relatório da qualidade do dado\n",
    "display(data_quality(df_type, 'type'))"
   ]
  }
 ],
 "metadata": {
  "application/vnd.databricks.v1+notebook": {
   "computePreferences": null,
   "dashboards": [],
   "environmentMetadata": {
    "base_environment": "",
    "environment_version": "3"
   },
   "inputWidgetPreferences": null,
   "language": "python",
   "notebookMetadata": {
    "pythonIndentUnit": 4
   },
   "notebookName": "PokemonDW_QA",
   "widgets": {}
  },
  "language_info": {
   "name": "python"
  }
 },
 "nbformat": 4,
 "nbformat_minor": 0
}
