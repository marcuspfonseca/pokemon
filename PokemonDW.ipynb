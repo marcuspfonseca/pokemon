{
 "cells": [
  {
   "cell_type": "code",
   "execution_count": 0,
   "metadata": {
    "application/vnd.databricks.v1+cell": {
     "cellMetadata": {
      "byteLimit": 2048000,
      "rowLimit": 10000
     },
     "inputWidgets": {},
     "nuid": "e7f45e45-a384-4056-a4f8-a357dccd3168",
     "showTitle": false,
     "tableResultSettingsMap": {},
     "title": ""
    }
   },
   "outputs": [],
   "source": [
    "df = spark.read.option(\"header\", \"true\").option(\"inferSchema\", \"true\").csv(\"/Volumes/workspace/default/pokemon/pokemon_dataset.xls\")\n",
    "df.display()\n",
    "df.write.mode(\"overwrite\").parquet(\"/Volumes/workspace/default/pokemon/bronze/pokemon_dataset_full.parquet\")"
   ]
  },
  {
   "cell_type": "markdown",
   "metadata": {
    "application/vnd.databricks.v1+cell": {
     "cellMetadata": {
      "byteLimit": 2048000,
      "rowLimit": 10000
     },
     "inputWidgets": {},
     "nuid": "a325d7ea-04f6-4f0c-a810-e61a3e330ee6",
     "showTitle": false,
     "tableResultSettingsMap": {},
     "title": ""
    }
   },
   "source": [
    "Criação da Fato Pokemon, buscando o raw data e trazendo o pokemon e seus status"
   ]
  },
  {
   "cell_type": "code",
   "execution_count": 0,
   "metadata": {
    "application/vnd.databricks.v1+cell": {
     "cellMetadata": {
      "byteLimit": 2048000,
      "rowLimit": 10000
     },
     "inputWidgets": {},
     "nuid": "22e2d14c-ae03-4f2a-b1e6-7ea5bd77af86",
     "showTitle": false,
     "tableResultSettingsMap": {},
     "title": ""
    }
   },
   "outputs": [],
   "source": [
    "from pyspark.sql.functions import col\n",
    "df_dim_pokemon = df.select(col(\"id\").alias(\"id\"), col(\"name\").alias(\"name\"), col(\"base_experience\").alias(\"base_experience\"), col(\"height\").alias(\"height\"), col(\"weight\").alias(\"weight\"),col(\"attack\").alias(\"attack\"),col(\"defense\").alias(\"defense\"),col(\"hp\").alias(\"hp\"),col(\"special-attack\").alias(\"special_attack\"),col(\"special-defense\").alias(\"special_defense\"),col(\"speed\").alias(\"speed\"))\n",
    "\n",
    "df_dim_pokemon.display()\n",
    "\n",
    "df.write.mode(\"overwrite\").parquet(\"/Volumes/workspace/default/pokemon/gold/pokemon_ft_stats.parquet\")"
   ]
  },
  {
   "cell_type": "markdown",
   "metadata": {
    "application/vnd.databricks.v1+cell": {
     "cellMetadata": {
      "byteLimit": 2048000,
      "rowLimit": 10000
     },
     "inputWidgets": {},
     "nuid": "f1acbbdb-f51a-4283-8cb4-b0f71343639f",
     "showTitle": false,
     "tableResultSettingsMap": {},
     "title": ""
    }
   },
   "source": [
    "Tratamento Abilities"
   ]
  },
  {
   "cell_type": "code",
   "execution_count": 0,
   "metadata": {
    "application/vnd.databricks.v1+cell": {
     "cellMetadata": {
      "byteLimit": 2048000,
      "rowLimit": 10000
     },
     "inputWidgets": {},
     "nuid": "26e22266-a592-4f15-aa89-875f59839d09",
     "showTitle": false,
     "tableResultSettingsMap": {},
     "title": ""
    }
   },
   "outputs": [],
   "source": [
    "from pyspark.sql.functions import col, explode, trim, regexp_replace, monotonically_increasing_id, split\n",
    "\n",
    "# Corrige o formato da string para algo que o Spark possa dividir corretamente\n",
    "df_split = df.withColumn(\n",
    "    \"ability_clean\",\n",
    "    regexp_replace(col(\"abilities\"), r\"[^\\w,]\", \"\")  # remove qualquer coisa que não seja letra, número ou vírgula\n",
    ").withColumn(\n",
    "    \"ability_array\",\n",
    "    split(col(\"ability_clean\"), \",\")  # divide por vírgula\n",
    ")\n",
    "\n",
    "df_split.select(\"id\", \"name\", \"abilities\", \"ability_array\").display()\n",
    "\n",
    "df.write.mode(\"overwrite\").parquet(\"/Volumes/workspace/default/pokemon/silver/pokemon_dim_ability.parquet\")\n"
   ]
  },
  {
   "cell_type": "markdown",
   "metadata": {
    "application/vnd.databricks.v1+cell": {
     "cellMetadata": {
      "byteLimit": 2048000,
      "rowLimit": 10000
     },
     "inputWidgets": {},
     "nuid": "e161a37c-9649-47ab-9ef3-f5be6f810ede",
     "showTitle": false,
     "tableResultSettingsMap": {},
     "title": ""
    }
   },
   "source": [
    "Criação da DIM_ability"
   ]
  },
  {
   "cell_type": "code",
   "execution_count": 0,
   "metadata": {
    "application/vnd.databricks.v1+cell": {
     "cellMetadata": {
      "byteLimit": 2048000,
      "rowLimit": 10000
     },
     "inputWidgets": {},
     "nuid": "7edb861c-d2f5-4b86-8250-c1425f906591",
     "showTitle": false,
     "tableResultSettingsMap": {
      "0": {
       "dataGridStateBlob": "{\"version\":1,\"tableState\":{\"columnPinning\":{\"left\":[\"#row_number#\"],\"right\":[]},\"columnSizing\":{},\"columnVisibility\":{}},\"settings\":{\"columns\":{}},\"syncTimestamp\":1755964936768}",
       "filterBlob": null,
       "queryPlanFiltersBlob": null,
       "tableResultIndex": 0
      }
     },
     "title": ""
    }
   },
   "outputs": [],
   "source": [
    "from pyspark.sql.functions import size, col, expr\n",
    "\n",
    "max_abilities = df_split.select(\n",
    "    size(col(\"ability_array\")).alias(\"qtd\")\n",
    ").agg(\n",
    "    {\"qtd\": \"max\"}\n",
    ").collect()[0][0]\n",
    "\n",
    "print(f\"Número máximo de habilidades: {max_abilities}\")\n",
    "\n",
    "df_habilidades = df_split.select(\n",
    "    col(\"id\").alias(\"pokemon_id\"),\n",
    "    *[\n",
    "        expr(f\"try_element_at(ability_array, {i+1})\").alias(f\"habilidade_{i+1}\")\n",
    "        for i in range(max_abilities)\n",
    "    ]\n",
    ")\n",
    "\n",
    "display(df_habilidades)\n",
    "df.write.mode(\"overwrite\").parquet(\"/Volumes/workspace/default/pokemon/gold/pokemon_dim_abilities.parquet\")"
   ]
  },
  {
   "cell_type": "markdown",
   "metadata": {
    "application/vnd.databricks.v1+cell": {
     "cellMetadata": {
      "byteLimit": 2048000,
      "rowLimit": 10000
     },
     "inputWidgets": {},
     "nuid": "14638092-0403-4892-a490-278372ce5c5a",
     "showTitle": false,
     "tableResultSettingsMap": {},
     "title": ""
    }
   },
   "source": [
    "Tratamento DIM_Type"
   ]
  },
  {
   "cell_type": "code",
   "execution_count": 0,
   "metadata": {
    "application/vnd.databricks.v1+cell": {
     "cellMetadata": {
      "byteLimit": 2048000,
      "rowLimit": 10000
     },
     "inputWidgets": {},
     "nuid": "4b6661f2-24ea-49dc-b735-bc79d4bff96f",
     "showTitle": false,
     "tableResultSettingsMap": {},
     "title": ""
    }
   },
   "outputs": [],
   "source": [
    "from pyspark.sql.functions import col\n",
    "df_dim_types = df.select(col(\"id\").alias(\"id\"),col(\"types\").alias(\"types\"))\n",
    "\n",
    "df_dim_types.display()"
   ]
  },
  {
   "cell_type": "code",
   "execution_count": 0,
   "metadata": {
    "application/vnd.databricks.v1+cell": {
     "cellMetadata": {
      "byteLimit": 2048000,
      "rowLimit": 10000
     },
     "inputWidgets": {},
     "nuid": "2eeb65a9-47c4-4bc5-8711-13a7c0c11f32",
     "showTitle": false,
     "tableResultSettingsMap": {},
     "title": ""
    }
   },
   "outputs": [],
   "source": [
    "df_dim_types = df.withColumn(\n",
    "    \"types_clean\",\n",
    "    regexp_replace(col(\"types\"), r\"[^\\w,]\", \"\")  # remove qualquer coisa que não seja letra, número ou vírgula\n",
    ").withColumn(\n",
    "    \"types_array\",\n",
    "    split(col(\"types_clean\"), \",\")  # divide por vírgula\n",
    ")\n",
    "\n",
    "df_dim_types.select(\"id\", \"types\", \"types_array\").display()\n",
    "\n",
    "df.write.mode(\"overwrite\").parquet(\"/Volumes/workspace/default/pokemon/silver/pokemon_dim_type.parquet\")\n"
   ]
  },
  {
   "cell_type": "code",
   "execution_count": 0,
   "metadata": {
    "application/vnd.databricks.v1+cell": {
     "cellMetadata": {
      "byteLimit": 2048000,
      "rowLimit": 10000
     },
     "inputWidgets": {},
     "nuid": "5adbd044-6c76-4bb3-8c88-669e52b34c89",
     "showTitle": false,
     "tableResultSettingsMap": {},
     "title": ""
    }
   },
   "outputs": [],
   "source": [
    "from pyspark.sql.functions import size, col, expr\n",
    "\n",
    "max_types = df_dim_types.select(\n",
    "    size(col(\"types_array\")).alias(\"qtd\")\n",
    ").agg(\n",
    "    {\"qtd\": \"max\"}\n",
    ").collect()[0][0]\n",
    "\n",
    "print(f\"Número máximo de tipos: {max_types}\")\n",
    "\n",
    "df_dim_types = df_dim_types.select(\n",
    "    col(\"id\").alias(\"id\"),\n",
    "    *[\n",
    "        expr(f\"try_element_at(types_array, {i+1})\").alias(f\"tipo_{i+1}\")\n",
    "        for i in range(max_types)\n",
    "    ]\n",
    ")\n",
    "\n",
    "display(df_dim_types)\n",
    "\n",
    "df.write.mode(\"overwrite\").parquet(\"/Volumes/workspace/default/pokemon/gold/pokemon_dim_type.parquet\")"
   ]
  }
 ],
 "metadata": {
  "application/vnd.databricks.v1+notebook": {
   "computePreferences": null,
   "dashboards": [],
   "environmentMetadata": {
    "base_environment": "",
    "environment_version": "2"
   },
   "inputWidgetPreferences": null,
   "language": "python",
   "notebookMetadata": {
    "pythonIndentUnit": 4
   },
   "notebookName": "PokemonDW",
   "widgets": {}
  },
  "language_info": {
   "name": "python"
  }
 },
 "nbformat": 4,
 "nbformat_minor": 0
}
