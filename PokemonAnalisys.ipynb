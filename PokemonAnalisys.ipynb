{
 "cells": [
  {
   "cell_type": "code",
   "execution_count": 0,
   "metadata": {
    "application/vnd.databricks.v1+cell": {
     "cellMetadata": {
      "byteLimit": 2048000,
      "rowLimit": 10000
     },
     "inputWidgets": {},
     "nuid": "4ab40daf-5488-41be-8c77-d3b4a4d29806",
     "showTitle": false,
     "tableResultSettingsMap": {
      "2": {
       "dataGridStateBlob": "{\"version\":1,\"tableState\":{\"columnPinning\":{\"left\":[\"#row_number#\"],\"right\":[]},\"columnSizing\":{\"#row_number#\":52},\"columnVisibility\":{}},\"settings\":{\"columns\":{}},\"syncTimestamp\":1756145031862}",
       "filterBlob": null,
       "queryPlanFiltersBlob": null,
       "tableResultIndex": 2
      }
     },
     "title": ""
    }
   },
   "outputs": [],
   "source": [
    "import pandas as pd\n",
    "import matplotlib.pyplot as plt\n",
    "import numpy as np\n",
    "\n",
    "ft_stats = spark.read.parquet(\n",
    "    \"/Volumes/workspace/default/pokemon/gold/pokemon_ft_stats.parquet\"\n",
    ")\n",
    "dim_type = spark.read.parquet(\n",
    "    \"/Volumes/workspace/default/pokemon/gold/pokemon_dim_type.parquet\"\n",
    ")\n",
    "dim_abilities = spark.read.parquet(\n",
    "    \"/Volumes/workspace/default/pokemon/gold/pokemon_dim_abilities.parquet\"\n",
    ")\n",
    "\n",
    "df_stats = ft_stats.toPandas()\n",
    "df_type = dim_type.toPandas()\n",
    "df_abilities = dim_abilities.toPandas()"
   ]
  },
  {
   "cell_type": "markdown",
   "metadata": {
    "application/vnd.databricks.v1+cell": {
     "cellMetadata": {},
     "inputWidgets": {},
     "nuid": "358bdd33-9ee2-41f5-8361-ee0ce1ecffa5",
     "showTitle": false,
     "tableResultSettingsMap": {},
     "title": ""
    }
   },
   "source": [
    "Quantidade de Pokemons por tipo"
   ]
  },
  {
   "cell_type": "code",
   "execution_count": 0,
   "metadata": {
    "application/vnd.databricks.v1+cell": {
     "cellMetadata": {
      "byteLimit": 2048000,
      "rowLimit": 10000
     },
     "inputWidgets": {},
     "nuid": "35e642fa-86d9-497c-b039-6c3051a1863a",
     "showTitle": false,
     "tableResultSettingsMap": {},
     "title": ""
    }
   },
   "outputs": [],
   "source": [
    "count_tipo1 = df_type['tipo_1'].value_counts().to_frame().reset_index()\n",
    "count_tipo2 = df_type['tipo_2'].value_counts().to_frame().reset_index()\n",
    "single_type_count = df_type['tipo_2'].isna().sum()\n",
    "multi_type_count = df_type['tipo_2'].notna().sum()\n",
    "\n",
    "plt.figure(figsize=(10, 6))\n",
    "sns.barplot(x='index', y='tipo_1', data=count_tipo1)\n",
    "plt.title('Contagem de Pokémon por Tipo 1')\n",
    "plt.xlabel('Tipo 1')\n",
    "plt.ylabel('Contagem')\n",
    "plt.xticks(rotation=45)\n",
    "plt.show()\n",
    "\n",
    "plt.figure(figsize=(10, 6))\n",
    "sns.barplot(x='index', y='tipo_2', data=count_tipo2)\n",
    "plt.title('Contagem de Pokémon por Tipo 2')\n",
    "plt.xlabel('Tipo 2')\n",
    "plt.ylabel('Contagem')\n",
    "plt.xticks(rotation=45)\n",
    "plt.show()\n",
    "\n",
    "labels = [\"1 Tipo\", \"2 Tipos\"]\n",
    "values = [single_type_count, multi_type_count]\n",
    "\n",
    "plt.figure(figsize=(6,6))\n",
    "plt.pie(values, labels=labels, autopct=\"%1.1f%%\", startangle=90)\n",
    "plt.title(\"Pokémons com 1 ou 2 tipos\")\n",
    "plt.show()"
   ]
  },
  {
   "cell_type": "code",
   "execution_count": 0,
   "metadata": {
    "application/vnd.databricks.v1+cell": {
     "cellMetadata": {
      "byteLimit": 2048000,
      "rowLimit": 10000
     },
     "inputWidgets": {},
     "nuid": "3bd2f5ce-7cca-4c5d-84ca-644948bb678c",
     "showTitle": false,
     "tableResultSettingsMap": {},
     "title": ""
    }
   },
   "outputs": [],
   "source": [
    "df_stats = pd.DataFrame(df_stats)\n",
    "\n",
    "df_stats[\"total_stats\"] = df_stats[[\"attack\",\"defense\",\"hp\",\"special_attack\",\"special_defense\",\"speed\"]].sum(axis=1)\n",
    "top_total = df_stats.nlargest(10, \"total_stats\")\n",
    "\n",
    "plt.figure(figsize=(10,6))\n",
    "plt.bar(top_total[\"name\"], top_total[\"total_stats\"], color=\"royalblue\")\n",
    "plt.title(\"Top 10 Pokémons - Stats Acumulados\")\n",
    "plt.ylabel(\"Total de Stats\")\n",
    "plt.xticks(rotation=45)\n",
    "plt.show()\n",
    "\n",
    "stats = [\"attack\",\"defense\",\"hp\",\"special_attack\",\"special_defense\",\"speed\"]\n",
    "\n",
    "for stat in stats:\n",
    "    top_stat = df_stats.nlargest(10, stat)\n",
    "\n",
    "    plt.figure(figsize=(10,6))\n",
    "    plt.bar(top_stat[\"name\"], top_stat[stat], color=\"orange\")\n",
    "    plt.title(f\"Top 10 Pokémons - {stat.capitalize()}\")\n",
    "    plt.ylabel(stat.capitalize())\n",
    "    plt.xticks(rotation=45)\n",
    "    plt.show()"
   ]
  },
  {
   "cell_type": "code",
   "execution_count": 0,
   "metadata": {
    "application/vnd.databricks.v1+cell": {
     "cellMetadata": {
      "byteLimit": 2048000,
      "rowLimit": 10000
     },
     "inputWidgets": {},
     "nuid": "dafb7e9b-75c4-433e-879f-8e09a6326ef6",
     "showTitle": false,
     "tableResultSettingsMap": {},
     "title": ""
    }
   },
   "outputs": [],
   "source": [
    "def to_na(x):\n",
    "    return None if (pd.isna(x) or str(x).strip().lower() in {\"null\", \"none\", \"nan\", \"\"}) else x\n",
    "\n",
    "cols = [\"habilidade_1\",\"habilidade_2\",\"habilidade_3\"]\n",
    "for c in cols:\n",
    "    df_abilities[c] = df_abilities[c].map(to_na)\n",
    "\n",
    "\n",
    "df_abilities[\"qtd_habilidades\"] = df_abilities[cols].apply(lambda r: r.notna().sum(), axis=1)\n",
    "\n",
    "vc = df_abilities[\"qtd_habilidades\"].value_counts()\n",
    "resumo = pd.DataFrame([{\n",
    "    \"pokemons_com_1_habilidade\": int(vc.get(1, 0)),\n",
    "    \"pokemons_com_2_habilidades\": int(vc.get(2, 0)),\n",
    "    \"pokemons_com_3_habilidades\": int(vc.get(3, 0)),\n",
    "}])\n",
    "\n",
    "resumo\n",
    "\n",
    "\n",
    "vals = [\n",
    "    resumo.loc[0,\"pokemons_com_1_habilidade\"],\n",
    "    resumo.loc[0,\"pokemons_com_2_habilidades\"],\n",
    "    resumo.loc[0,\"pokemons_com_3_habilidades\"],\n",
    "]\n",
    "\n",
    "plt.figure()\n",
    "plt.bar([\"1 habilidade\",\"2 habilidades\",\"3 habilidades\"], vals)\n",
    "plt.title(\"Pokémons por quantidade de habilidades\")\n",
    "plt.xlabel(\"Quantidade de habilidades\")\n",
    "plt.ylabel(\"Número de Pokémons\")\n",
    "plt.show()"
   ]
  }
 ],
 "metadata": {
  "application/vnd.databricks.v1+notebook": {
   "computePreferences": null,
   "dashboards": [],
   "environmentMetadata": {
    "base_environment": "",
    "environment_version": "3"
   },
   "inputWidgetPreferences": null,
   "language": "python",
   "notebookMetadata": {
    "pythonIndentUnit": 4
   },
   "notebookName": "PokemonAnalisys",
   "widgets": {}
  },
  "language_info": {
   "name": "python"
  }
 },
 "nbformat": 4,
 "nbformat_minor": 0
}
